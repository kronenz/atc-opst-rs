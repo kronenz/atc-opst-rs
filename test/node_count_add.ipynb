{
 "cells": [
  {
   "cell_type": "code",
   "execution_count": null,
   "metadata": {},
   "outputs": [],
   "source": [
    "import requests\n",
    "\n",
    "els_url='http://192.168.15.140:9200/' #sample_idx_timestamp/_doc'\n",
    "\n",
    "index_creation={\n",
    "                  \"mappings\": {\n",
    "                    \"properties\": {\n",
    "                      \"cluster_id\": {\n",
    "                        \"type\": \"text\",\n",
    "                        \"fields\": {\n",
    "                          \"keyword\": {\n",
    "                            \"type\": \"keyword\"\n",
    "                          }\n",
    "                        }\n",
    "                      },\n",
    "                      \"@timestamp\": {\n",
    "                        \"type\": \"date\"\n",
    "                      },                     \n",
    "                      \"node_count\":{\n",
    "                          \"type\": \"integer\"\n",
    "                      }\n",
    "                    }\n",
    "                  }\n",
    "                }"
   ]
  },
  {
   "cell_type": "code",
   "execution_count": null,
   "metadata": {},
   "outputs": [],
   "source": [
    "###index declaration\n",
    "\n",
    "idx_name='vm_cluster_node_count_sample'\n",
    "url=els_url + idx_name\n",
    "x=requests.put(url, json=index_creation)\n",
    "print(url)\n",
    "print(x.json())"
   ]
  }
 ],
 "metadata": {
  "kernelspec": {
   "display_name": "Python 3.9.13 ('opst_sdk')",
   "language": "python",
   "name": "python3"
  },
  "language_info": {
   "name": "python",
   "version": "3.9.13"
  },
  "orig_nbformat": 4,
  "vscode": {
   "interpreter": {
    "hash": "07e1b7b9aa5344d068aa3beee17cb2ff7e65afe63cd6f595d7d162508d8ed21b"
   }
  }
 },
 "nbformat": 4,
 "nbformat_minor": 2
}
