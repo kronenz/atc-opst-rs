{
 "cells": [
  {
   "cell_type": "code",
   "execution_count": 1,
   "metadata": {},
   "outputs": [],
   "source": [
    "cpu_rate = -6000.0\n",
    "\n",
    "if cpu_rate < 0.0:\n",
    "    cpu_rate = 0.0\n"
   ]
  },
  {
   "cell_type": "code",
   "execution_count": 2,
   "metadata": {},
   "outputs": [
    {
     "name": "stdout",
     "output_type": "stream",
     "text": [
      "0.0\n"
     ]
    }
   ],
   "source": [
    "print(cpu_rate)"
   ]
  },
  {
   "cell_type": "code",
   "execution_count": 3,
   "metadata": {},
   "outputs": [
    {
     "ename": "AttributeError",
     "evalue": "module 'datetime' has no attribute 'now'",
     "output_type": "error",
     "traceback": [
      "\u001b[0;31m---------------------------------------------------------------------------\u001b[0m",
      "\u001b[0;31mAttributeError\u001b[0m                            Traceback (most recent call last)",
      "Cell \u001b[0;32mIn [3], line 3\u001b[0m\n\u001b[1;32m      1\u001b[0m \u001b[39mimport\u001b[39;00m \u001b[39mdatetime\u001b[39;00m\n\u001b[1;32m      2\u001b[0m \u001b[39m# get current datetime\u001b[39;00m\n\u001b[0;32m----> 3\u001b[0m today \u001b[39m=\u001b[39m datetime\u001b[39m.\u001b[39;49mnow()\n\u001b[1;32m      4\u001b[0m \u001b[39mprint\u001b[39m(\u001b[39m'\u001b[39m\u001b[39mToday Datetime:\u001b[39m\u001b[39m'\u001b[39m, today)\n\u001b[1;32m      6\u001b[0m \u001b[39m# Get current ISO 8601 datetime in string format\u001b[39;00m\n",
      "\u001b[0;31mAttributeError\u001b[0m: module 'datetime' has no attribute 'now'"
     ]
    }
   ],
   "source": [
    "from datetime import datetime\n",
    "# get current datetime\n",
    "today = datetime.now()\n",
    "print('Today Datetime:', today)\n",
    "\n",
    "# Get current ISO 8601 datetime in string format\n",
    "iso_date = today.isoformat()\n",
    "print('ISO DateTime:', iso_date)"
   ]
  },
  {
   "cell_type": "code",
   "execution_count": null,
   "metadata": {},
   "outputs": [],
   "source": []
  }
 ],
 "metadata": {
  "kernelspec": {
   "display_name": "Python 3.9.13 ('opst_sdk')",
   "language": "python",
   "name": "python3"
  },
  "language_info": {
   "codemirror_mode": {
    "name": "ipython",
    "version": 3
   },
   "file_extension": ".py",
   "mimetype": "text/x-python",
   "name": "python",
   "nbconvert_exporter": "python",
   "pygments_lexer": "ipython3",
   "version": "3.9.15"
  },
  "orig_nbformat": 4,
  "vscode": {
   "interpreter": {
    "hash": "07e1b7b9aa5344d068aa3beee17cb2ff7e65afe63cd6f595d7d162508d8ed21b"
   }
  }
 },
 "nbformat": 4,
 "nbformat_minor": 2
}
