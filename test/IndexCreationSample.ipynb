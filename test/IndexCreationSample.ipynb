{
 "cells": [
  {
   "cell_type": "code",
   "execution_count": 4,
   "id": "955d64ec",
   "metadata": {},
   "outputs": [],
   "source": [
    "import requests"
   ]
  },
  {
   "cell_type": "code",
   "execution_count": 13,
   "id": "ed136a85",
   "metadata": {},
   "outputs": [],
   "source": [
    "els_url='http://192.168.15.140:9200/' #sample_idx_timestamp/_doc'\n",
    "\n",
    "index_creation={\n",
    "                  \"mappings\": {\n",
    "                    \"properties\": {\n",
    "                      \"cluster_id\": {\n",
    "                        \"type\": \"text\",\n",
    "                        \"fields\": {\n",
    "                          \"keyword\": {\n",
    "                            \"type\": \"keyword\"\n",
    "                          }\n",
    "                        }\n",
    "                      },\n",
    "                      \"@timestamp\": {\n",
    "                        \"type\": \"date\"\n",
    "                      },\n",
    "                      \"node_count\":{\n",
    "                          \"type\": \"integer\"\n",
    "                      }\n",
    "                    }\n",
    "                  }\n",
    "                }\n",
    "\n",
    "sample_doc={\"tx_byte\":234.123,\n",
    "           \"tx_packet\":24623.2141,\n",
    "           \"tx_drop\":1.0,\n",
    "           \"tx_error\":1.0,\n",
    "           \"rx_byte\":312.532,\n",
    "           \"rx_packet\":123.4512,\n",
    "           \"rx_drop\":0.0,\n",
    "           \"rx_error\":0.0,\n",
    "           \"@timestamp\":'2022-11-20T10:20:40+00:00',\n",
    "           \"port_id\":\"a3777ca0-a3\",\n",
    "           \"vm_id\":\"2f70f301-b039-42cc-b043-1ed47011e1a8\"}"
   ]
  },
  {
   "cell_type": "markdown",
   "id": "985b3665",
   "metadata": {},
   "source": [
    "# index creation \n",
    "https://www.elastic.co/guide/en/elasticsearch/reference/current/explicit-mapping.html\n",
    "\n",
    "# declaration of keyword type field\n",
    "https://www.elastic.co/guide/en/elasticsearch/reference/current/text.html#fielddata-mapping-param\n",
    "\n",
    "# date type declaration\n",
    "https://www.elastic.co/guide/en/elasticsearch/reference/current/date.html"
   ]
  },
  {
   "cell_type": "code",
   "execution_count": 12,
   "id": "80e95b0c",
   "metadata": {},
   "outputs": [
    {
     "name": "stdout",
     "output_type": "stream",
     "text": [
      "http://192.168.15.140:9200/vm_cluster_node_count_sample\n",
      "{'error': {'root_cause': [{'type': 'resource_already_exists_exception', 'reason': 'index [vm_cluster_node_count_sample/-yV4rl1PTPKSOOkmyAKH6A] already exists', 'index_uuid': '-yV4rl1PTPKSOOkmyAKH6A', 'index': 'vm_cluster_node_count_sample'}], 'type': 'resource_already_exists_exception', 'reason': 'index [vm_cluster_node_count_sample/-yV4rl1PTPKSOOkmyAKH6A] already exists', 'index_uuid': '-yV4rl1PTPKSOOkmyAKH6A', 'index': 'vm_cluster_node_count_sample'}, 'status': 400}\n"
     ]
    }
   ],
   "source": [
    "###index declaration\n",
    "\n",
    "idx_name='vm_cluster_node_count_sample'\n",
    "url=els_url + idx_name\n",
    "x=requests.put(url, json=index_creation)\n",
    "print(url)\n",
    "print(x.json())"
   ]
  },
  {
   "cell_type": "code",
   "execution_count": 8,
   "id": "212ae62a",
   "metadata": {},
   "outputs": [
    {
     "name": "stdout",
     "output_type": "stream",
     "text": [
      "http://192.168.15.140:9200/vm_cluster_cpu_sample/_doc\n",
      "{'_index': 'vm_cluster_cpu_sample', '_type': '_doc', '_id': 'bA3-moQBUNc9t9RkSJff', '_version': 1, 'result': 'created', '_shards': {'total': 2, 'successful': 1, 'failed': 0}, '_seq_no': 2552, '_primary_term': 1}\n"
     ]
    }
   ],
   "source": [
    "###sample doc input\n",
    "\n",
    "idx_name='vm_cluster_cpu_sample'\n",
    "url=els_url + idx_name + \"/_doc\"\n",
    "x=requests.post(url, json=sample_doc)\n",
    "print(url)\n",
    "print(x.json())"
   ]
  },
  {
   "cell_type": "code",
   "execution_count": 6,
   "id": "0bf1c552",
   "metadata": {},
   "outputs": [],
   "source": [
    "a=[1,2,3,4,5]"
   ]
  },
  {
   "cell_type": "code",
   "execution_count": 8,
   "id": "a70bd349",
   "metadata": {},
   "outputs": [
    {
     "data": {
      "text/plain": [
       "[3, 4, 5]"
      ]
     },
     "execution_count": 8,
     "metadata": {},
     "output_type": "execute_result"
    }
   ],
   "source": [
    "a[-3:]"
   ]
  },
  {
   "cell_type": "code",
   "execution_count": 10,
   "id": "aa68532d",
   "metadata": {},
   "outputs": [
    {
     "ename": "ValueError",
     "evalue": "time data '2022-11-20T10:20:20+00:00' does not match format '%Y-%m-%dT%H:%M:%S+%z'",
     "output_type": "error",
     "traceback": [
      "\u001b[0;31m---------------------------------------------------------------------------\u001b[0m",
      "\u001b[0;31mValueError\u001b[0m                                Traceback (most recent call last)",
      "Input \u001b[0;32mIn [10]\u001b[0m, in \u001b[0;36m<cell line: 4>\u001b[0;34m()\u001b[0m\n\u001b[1;32m      1\u001b[0m \u001b[38;5;28;01mimport\u001b[39;00m \u001b[38;5;21;01mdatetime\u001b[39;00m\n\u001b[1;32m      3\u001b[0m date_example \u001b[38;5;241m=\u001b[39m \u001b[38;5;124m\"\u001b[39m\u001b[38;5;124m2022-11-20T10:20:20+00:00\u001b[39m\u001b[38;5;124m\"\u001b[39m\n\u001b[0;32m----> 4\u001b[0m date_format \u001b[38;5;241m=\u001b[39m \u001b[43mdatetime\u001b[49m\u001b[38;5;241;43m.\u001b[39;49m\u001b[43mdatetime\u001b[49m\u001b[38;5;241;43m.\u001b[39;49m\u001b[43mstrptime\u001b[49m\u001b[43m(\u001b[49m\u001b[43mdate_example\u001b[49m\u001b[43m,\u001b[49m\n\u001b[1;32m      5\u001b[0m \u001b[43m                                         \u001b[49m\u001b[38;5;124;43m\"\u001b[39;49m\u001b[38;5;124;43m%\u001b[39;49m\u001b[38;5;124;43mY-\u001b[39;49m\u001b[38;5;124;43m%\u001b[39;49m\u001b[38;5;124;43mm-\u001b[39;49m\u001b[38;5;132;43;01m%d\u001b[39;49;00m\u001b[38;5;124;43mT\u001b[39;49m\u001b[38;5;124;43m%\u001b[39;49m\u001b[38;5;124;43mH:\u001b[39;49m\u001b[38;5;124;43m%\u001b[39;49m\u001b[38;5;124;43mM:\u001b[39;49m\u001b[38;5;124;43m%\u001b[39;49m\u001b[38;5;124;43mS+\u001b[39;49m\u001b[38;5;124;43m%\u001b[39;49m\u001b[38;5;124;43mz\u001b[39;49m\u001b[38;5;124;43m\"\u001b[39;49m\u001b[43m)\u001b[49m\n\u001b[1;32m      6\u001b[0m unix_time \u001b[38;5;241m=\u001b[39m datetime\u001b[38;5;241m.\u001b[39mdatetime\u001b[38;5;241m.\u001b[39mtimestamp(date_format)\n\u001b[1;32m      7\u001b[0m \u001b[38;5;28mprint\u001b[39m(unix_time)\n",
      "File \u001b[0;32m/opt/homebrew/anaconda3/lib/python3.9/_strptime.py:568\u001b[0m, in \u001b[0;36m_strptime_datetime\u001b[0;34m(cls, data_string, format)\u001b[0m\n\u001b[1;32m    565\u001b[0m \u001b[38;5;28;01mdef\u001b[39;00m \u001b[38;5;21m_strptime_datetime\u001b[39m(\u001b[38;5;28mcls\u001b[39m, data_string, \u001b[38;5;28mformat\u001b[39m\u001b[38;5;241m=\u001b[39m\u001b[38;5;124m\"\u001b[39m\u001b[38;5;132;01m%a\u001b[39;00m\u001b[38;5;124m \u001b[39m\u001b[38;5;124m%\u001b[39m\u001b[38;5;124mb \u001b[39m\u001b[38;5;132;01m%d\u001b[39;00m\u001b[38;5;124m \u001b[39m\u001b[38;5;124m%\u001b[39m\u001b[38;5;124mH:\u001b[39m\u001b[38;5;124m%\u001b[39m\u001b[38;5;124mM:\u001b[39m\u001b[38;5;124m%\u001b[39m\u001b[38;5;124mS \u001b[39m\u001b[38;5;124m%\u001b[39m\u001b[38;5;124mY\u001b[39m\u001b[38;5;124m\"\u001b[39m):\n\u001b[1;32m    566\u001b[0m     \u001b[38;5;124;03m\"\"\"Return a class cls instance based on the input string and the\u001b[39;00m\n\u001b[1;32m    567\u001b[0m \u001b[38;5;124;03m    format string.\"\"\"\u001b[39;00m\n\u001b[0;32m--> 568\u001b[0m     tt, fraction, gmtoff_fraction \u001b[38;5;241m=\u001b[39m \u001b[43m_strptime\u001b[49m\u001b[43m(\u001b[49m\u001b[43mdata_string\u001b[49m\u001b[43m,\u001b[49m\u001b[43m \u001b[49m\u001b[38;5;28;43mformat\u001b[39;49m\u001b[43m)\u001b[49m\n\u001b[1;32m    569\u001b[0m     tzname, gmtoff \u001b[38;5;241m=\u001b[39m tt[\u001b[38;5;241m-\u001b[39m\u001b[38;5;241m2\u001b[39m:]\n\u001b[1;32m    570\u001b[0m     args \u001b[38;5;241m=\u001b[39m tt[:\u001b[38;5;241m6\u001b[39m] \u001b[38;5;241m+\u001b[39m (fraction,)\n",
      "File \u001b[0;32m/opt/homebrew/anaconda3/lib/python3.9/_strptime.py:349\u001b[0m, in \u001b[0;36m_strptime\u001b[0;34m(data_string, format)\u001b[0m\n\u001b[1;32m    347\u001b[0m found \u001b[38;5;241m=\u001b[39m format_regex\u001b[38;5;241m.\u001b[39mmatch(data_string)\n\u001b[1;32m    348\u001b[0m \u001b[38;5;28;01mif\u001b[39;00m \u001b[38;5;129;01mnot\u001b[39;00m found:\n\u001b[0;32m--> 349\u001b[0m     \u001b[38;5;28;01mraise\u001b[39;00m \u001b[38;5;167;01mValueError\u001b[39;00m(\u001b[38;5;124m\"\u001b[39m\u001b[38;5;124mtime data \u001b[39m\u001b[38;5;132;01m%r\u001b[39;00m\u001b[38;5;124m does not match format \u001b[39m\u001b[38;5;132;01m%r\u001b[39;00m\u001b[38;5;124m\"\u001b[39m \u001b[38;5;241m%\u001b[39m\n\u001b[1;32m    350\u001b[0m                      (data_string, \u001b[38;5;28mformat\u001b[39m))\n\u001b[1;32m    351\u001b[0m \u001b[38;5;28;01mif\u001b[39;00m \u001b[38;5;28mlen\u001b[39m(data_string) \u001b[38;5;241m!=\u001b[39m found\u001b[38;5;241m.\u001b[39mend():\n\u001b[1;32m    352\u001b[0m     \u001b[38;5;28;01mraise\u001b[39;00m \u001b[38;5;167;01mValueError\u001b[39;00m(\u001b[38;5;124m\"\u001b[39m\u001b[38;5;124munconverted data remains: \u001b[39m\u001b[38;5;132;01m%s\u001b[39;00m\u001b[38;5;124m\"\u001b[39m \u001b[38;5;241m%\u001b[39m\n\u001b[1;32m    353\u001b[0m                       data_string[found\u001b[38;5;241m.\u001b[39mend():])\n",
      "\u001b[0;31mValueError\u001b[0m: time data '2022-11-20T10:20:20+00:00' does not match format '%Y-%m-%dT%H:%M:%S+%z'"
     ]
    }
   ],
   "source": [
    "import datetime\n",
    "\n",
    "date_example = \"2022-11-20T10:20:20+00:00\"\n",
    "date_format = datetime.datetime.strptime(date_example,\n",
    "                                         \"%Y-%m-%dT%H:%M:%S+%z\")\n",
    "unix_time = datetime.datetime.timestamp(date_format)\n",
    "print(unix_time)"
   ]
  },
  {
   "cell_type": "code",
   "execution_count": 13,
   "id": "75d92911",
   "metadata": {},
   "outputs": [],
   "source": [
    "import json"
   ]
  },
  {
   "cell_type": "code",
   "execution_count": 14,
   "id": "692624a6",
   "metadata": {},
   "outputs": [],
   "source": [
    "a_dict={\"a\":\"b\"}"
   ]
  },
  {
   "cell_type": "code",
   "execution_count": 40,
   "id": "a7ec85e3",
   "metadata": {},
   "outputs": [],
   "source": [
    "id_json={\"index\": {\"_index\": \"vm_resource_sample\"}}\n",
    "json_string=json.dumps(sample_doc)"
   ]
  },
  {
   "cell_type": "code",
   "execution_count": 30,
   "id": "70a66fb4",
   "metadata": {},
   "outputs": [],
   "source": [
    "new_line='\\n' + json_string + '\\n' + json_string +'\\n'+'\\n'"
   ]
  },
  {
   "cell_type": "code",
   "execution_count": 27,
   "id": "930a2874",
   "metadata": {},
   "outputs": [
    {
     "name": "stdout",
     "output_type": "stream",
     "text": [
      "\n",
      "{\"tx_byte\": 234.123, \"tx_packet\": 24623.2141, \"tx_drop\": 1.0, \"tx_error\": 1.0, \"rx_byte\": 312.532, \"rx_packet\": 123.4512, \"rx_drop\": 0.0, \"rx_error\": 0.0, \"@timestamp\": \"2022-11-20T10:20:40+00:00\", \"port_id\": \"a3777ca0-a3\", \"vm_id\": \"2f70f301-b039-42cc-b043-1ed47011e1a8\"}\n",
      "{\"tx_byte\": 234.123, \"tx_packet\": 24623.2141, \"tx_drop\": 1.0, \"tx_error\": 1.0, \"rx_byte\": 312.532, \"rx_packet\": 123.4512, \"rx_drop\": 0.0, \"rx_error\": 0.0, \"@timestamp\": \"2022-11-20T10:20:40+00:00\", \"port_id\": \"a3777ca0-a3\", \"vm_id\": \"2f70f301-b039-42cc-b043-1ed47011e1a8\"}\n",
      "\n"
     ]
    }
   ],
   "source": [
    "print(new_line)"
   ]
  },
  {
   "cell_type": "code",
   "execution_count": 37,
   "id": "5f22954c",
   "metadata": {},
   "outputs": [
    {
     "data": {
      "text/plain": [
       "'\\n{\"tx_byte\": 234.123, \"tx_packet\": 24623.2141, \"tx_drop\": 1.0, \"tx_error\": 1.0, \"rx_byte\": 312.532, \"rx_packet\": 123.4512, \"rx_drop\": 0.0, \"rx_error\": 0.0, \"@timestamp\": \"2022-11-20T10:20:40+00:00\", \"port_id\": \"a3777ca0-a3\", \"vm_id\": \"2f70f301-b039-42cc-b043-1ed47011e1a8\"}\\n{\"tx_byte\": 234.123, \"tx_packet\": 24623.2141, \"tx_drop\": 1.0, \"tx_error\": 1.0, \"rx_byte\": 312.532, \"rx_packet\": 123.4512, \"rx_drop\": 0.0, \"rx_error\": 0.0, \"@timestamp\": \"2022-11-20T10:20:40+00:00\", \"port_id\": \"a3777ca0-a3\", \"vm_id\": \"2f70f301-b039-42cc-b043-1ed47011e1a8\"}\\n\\n'"
      ]
     },
     "execution_count": 37,
     "metadata": {},
     "output_type": "execute_result"
    }
   ],
   "source": [
    "new_line"
   ]
  },
  {
   "cell_type": "code",
   "execution_count": 56,
   "id": "5c59d781",
   "metadata": {},
   "outputs": [
    {
     "name": "stdout",
     "output_type": "stream",
     "text": [
      "{'took': 13, 'errors': False, 'items': [{'index': {'_index': 'vm_resource_sample', '_type': '_doc', '_id': '123', '_version': 2, 'result': 'updated', '_shards': {'total': 2, 'successful': 1, 'failed': 0}, '_seq_no': 4, '_primary_term': 1, 'status': 200}}, {'index': {'_index': 'vm_resource_sample', '_type': '_doc', '_id': '124', '_version': 2, 'result': 'updated', '_shards': {'total': 2, 'successful': 1, 'failed': 0}, '_seq_no': 5, '_primary_term': 1, 'status': 200}}]}\n"
     ]
    }
   ],
   "source": [
    "idx_name='vm_resource_sample'\n",
    "url=els_url + \"/_bulk\"\n",
    "x=requests.post(url, data=payload, headers={           \n",
    "                     # it's a requirement\n",
    "                     'Content-Type': 'application/x-ndjson'\n",
    "                 })\n",
    "print(x.json())"
   ]
  },
  {
   "cell_type": "code",
   "execution_count": 29,
   "id": "39773028",
   "metadata": {},
   "outputs": [
    {
     "data": {
      "text/plain": [
       "{'error': {'root_cause': [{'type': 'illegal_argument_exception',\n",
       "    'reason': 'The bulk request must be terminated by a newline [\\\\n]'}],\n",
       "  'type': 'illegal_argument_exception',\n",
       "  'reason': 'The bulk request must be terminated by a newline [\\\\n]'},\n",
       " 'status': 400}"
      ]
     },
     "execution_count": 29,
     "metadata": {},
     "output_type": "execute_result"
    }
   ],
   "source": []
  },
  {
   "cell_type": "code",
   "execution_count": 57,
   "id": "6eaaea7d",
   "metadata": {},
   "outputs": [],
   "source": [
    "data = [id_json, sample_doc, id_json, sample_doc]\n",
    "\n",
    "#         vvv                                              vvv\n",
    "payload = '\\n'.join([json.dumps(line) for line in data]) + '\\n'"
   ]
  },
  {
   "cell_type": "code",
   "execution_count": 52,
   "id": "d423eb37",
   "metadata": {},
   "outputs": [
    {
     "name": "stdout",
     "output_type": "stream",
     "text": [
      "{\"index\": {\"_index\": \"vm_resource_sample\"}}\n",
      "{\"tx_byte\": 234.123, \"tx_packet\": 24623.2141, \"tx_drop\": 1.0, \"tx_error\": 1.0, \"rx_byte\": 312.532, \"rx_packet\": 123.4512, \"rx_drop\": 0.0, \"rx_error\": 0.0, \"@timestamp\": \"2022-11-20T10:20:40+00:00\", \"port_id\": \"a3777ca0-a3\", \"vm_id\": \"2f70f301-b039-42cc-b043-1ed47011e1a8\"}\n",
      "{\"index\": {\"_index\": \"vm_resource_sample\"}}\n",
      "{\"tx_byte\": 234.123, \"tx_packet\": 24623.2141, \"tx_drop\": 1.0, \"tx_error\": 1.0, \"rx_byte\": 312.532, \"rx_packet\": 123.4512, \"rx_drop\": 0.0, \"rx_error\": 0.0, \"@timestamp\": \"2022-11-20T10:20:40+00:00\", \"port_id\": \"a3777ca0-a3\", \"vm_id\": \"2f70f301-b039-42cc-b043-1ed47011e1a8\"}\\n\n"
     ]
    }
   ],
   "source": [
    "print(payload)"
   ]
  },
  {
   "cell_type": "code",
   "execution_count": 47,
   "id": "8d239855",
   "metadata": {},
   "outputs": [
    {
     "data": {
      "text/plain": [
       "'{\"index\": {\"_index\": \"vm_resource_sample\"}}\\n{\"tx_byte\": 234.123, \"tx_packet\": 24623.2141, \"tx_drop\": 1.0, \"tx_error\": 1.0, \"rx_byte\": 312.532, \"rx_packet\": 123.4512, \"rx_drop\": 0.0, \"rx_error\": 0.0, \"@timestamp\": \"2022-11-20T10:20:40+00:00\", \"port_id\": \"a3777ca0-a3\", \"vm_id\": \"2f70f301-b039-42cc-b043-1ed47011e1a8\"}\\n{\"index\": {\"_index\": \"vm_resource_sample\"}}\\n{\"tx_byte\": 234.123, \"tx_packet\": 24623.2141, \"tx_drop\": 1.0, \"tx_error\": 1.0, \"rx_byte\": 312.532, \"rx_packet\": 123.4512, \"rx_drop\": 0.0, \"rx_error\": 0.0, \"@timestamp\": \"2022-11-20T10:20:40+00:00\", \"port_id\": \"a3777ca0-a3\", \"vm_id\": \"2f70f301-b039-42cc-b043-1ed47011e1a8\"}\\n'"
      ]
     },
     "execution_count": 47,
     "metadata": {},
     "output_type": "execute_result"
    }
   ],
   "source": [
    "payload"
   ]
  },
  {
   "cell_type": "code",
   "execution_count": 54,
   "id": "df6da053",
   "metadata": {},
   "outputs": [],
   "source": [
    "payload = \"{\\\"index\\\": {\\\"_index\\\": \\\"vm_resource_sample\\\", \\\"_id\\\": 123}}\\n{\\\"tx_byte\\\": 234.123, \\\"tx_packet\\\": 24623.2141, \\\"tx_drop\\\": 1.0, \\\"tx_error\\\": 1.0, \\\"rx_byte\\\": 312.532, \\\"rx_packet\\\": 123.4512, \\\"rx_drop\\\": 0.0, \\\"rx_error\\\": 0.0, \\\"@timestamp\\\": \\\"2022-11-20T10:20:40+00:00\\\", \\\"port_id\\\": \\\"a3777ca0-a3\\\", \\\"vm_id\\\": \\\"2f70f301-b039-42cc-b043-1ed47011e1a8\\\"}\\n{\\\"index\\\": {\\\"_index\\\": \\\"vm_resource_sample\\\", \\\"_id\\\": 124}}\\n{\\\"tx_byte\\\": 234.123, \\\"tx_packet\\\": 24623.2141, \\\"tx_drop\\\": 1.0, \\\"tx_error\\\": 1.0, \\\"rx_byte\\\": 312.532, \\\"rx_packet\\\": 123.4512, \\\"rx_drop\\\": 0.0, \\\"rx_error\\\": 0.0, \\\"@timestamp\\\": \\\"2022-11-20T10:20:40+00:00\\\", \\\"port_id\\\": \\\"a3777ca0-a3\\\", \\\"vm_id\\\": \\\"2f70f301-b039-42cc-b043-1ed47011e1a8\\\"}\\n\""
   ]
  },
  {
   "cell_type": "code",
   "execution_count": null,
   "id": "72789240",
   "metadata": {},
   "outputs": [],
   "source": []
  }
 ],
 "metadata": {
  "kernelspec": {
   "display_name": "Python 3.9.13 ('opst_sdk')",
   "language": "python",
   "name": "python3"
  },
  "language_info": {
   "codemirror_mode": {
    "name": "ipython",
    "version": 3
   },
   "file_extension": ".py",
   "mimetype": "text/x-python",
   "name": "python",
   "nbconvert_exporter": "python",
   "pygments_lexer": "ipython3",
   "version": "3.9.15"
  },
  "vscode": {
   "interpreter": {
    "hash": "07e1b7b9aa5344d068aa3beee17cb2ff7e65afe63cd6f595d7d162508d8ed21b"
   }
  }
 },
 "nbformat": 4,
 "nbformat_minor": 5
}
